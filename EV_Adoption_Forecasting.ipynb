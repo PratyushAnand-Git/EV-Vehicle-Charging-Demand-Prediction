{
  "cells": [
    {
      "cell_type": "markdown",
      "metadata": {
        "id": "ehixESohweWf"
      },
      "source": [
        "## EV Adoption Forecasting\n",
        "As electric vehicle (EV) adoption surges, urban planners need to anticipate infrastructure needs—especially charging stations. Inadequate planning can lead to bottlenecks, impacting user satisfaction and hindering sustainability goals.\n",
        "\n",
        "**Problem Statement:** Using the electric vehicle dataset (which includes information on EV populations, vehicle types, and possibly historical charging usage), create a model to forecast future EV adoption. For example, predict the number of electric vehicles in upcoming years based on the trends in the data.\n",
        "\n",
        "**Goal:** Build a regression model that forecasts future EV adoption demand based on historical trends in EV growth, types of vehicles, and regional data.\n",
        "\n",
        "**Dataset:** This dataset shows the number of vehicles that were registered by Washington State Department of Licensing (DOL) each month. The data is separated by county for passenger vehicles and trucks.\n",
        "\n",
        "- Date: Counts of registered vehicles are taken on this day (the end of this month). - 2017-01-31\n",
        "2024-02-29\n",
        "- County: This is the geographic region of a state that a vehicle's owner is listed to reside within. Vehicles registered in Washington\n",
        "- State: This is the geographic region of the country associated with the record. These addresses may be located in other\n",
        "- Vehicle Primary Use: This describes the primary intended use of the vehicle.(Passenger-83%, Truck-17%)\n",
        "- Battery Electric Vehicles (BEVs): The count of vehicles that are known to be propelled solely by an energy derived from an onboard electric battery.\n",
        "- Plug-In Hybrid Electric Vehicles (PHEVs): The count of vehicles that are known to be propelled from energy partially sourced from an onboard electric battery\n",
        "- Electric Vehicle (EV) Total: The sum of Battery Electric Vehicles (BEVs) and Plug-in Hybrid Electric Vehicles (PHEVs).\n",
        "- Non-Electric Vehicle Total: The count of vehicles that are not electric vehicles.\n",
        "- Total Vehicles: All powered vehicles registered in the county. This includes electric vehicles.\n",
        "- Percent Electric Vehicles: Comparison of electric vehicles versus their non-electric counterparts.\n",
        "\n",
        "**Dataset Link:** https://www.kaggle.com/datasets/sahirmaharajj/electric-vehicle-population-size-2024/data"
      ]
    },
    {
      "cell_type": "markdown",
      "metadata": {
        "id": "QbTMxiWLwu3f"
      },
      "source": [
        "### Import Required Libraries"
      ]
    },
    {
      "cell_type": "code",
      "execution_count": 1,
      "metadata": {
        "id": "NBiyEbTKv90E"
      },
      "outputs": [],
      "source": [
        "import joblib\n",
        "import numpy as np\n",
        "import pandas as pd\n",
        "import seaborn as sns\n",
        "import matplotlib.pyplot as plt\n",
        "from sklearn.preprocessing import LabelEncoder\n",
        "from sklearn.ensemble import RandomForestRegressor\n",
        "from sklearn.model_selection import train_test_split\n",
        "from sklearn.model_selection import RandomizedSearchCV\n",
        "from sklearn.metrics import mean_absolute_error, mean_squared_error, r2_score"
      ]
    },
    {
      "cell_type": "markdown",
      "metadata": {
        "id": "Y759bVGNw7Nn"
      },
      "source": [
        "### Load Dataset"
      ]
    },
    {
      "cell_type": "code",
      "execution_count": 2,
      "metadata": {
        "id": "S23gy9mBw6kA"
      },
      "outputs": [],
      "source": [
        "# Load data\n",
        "df = pd.read_csv(\"Electric_Vehicle_Population_By_County.csv\")"
      ]
    },
    {
      "cell_type": "markdown",
      "metadata": {
        "id": "pY_gBbyexa5Q"
      },
      "source": [
        "### Explore and Understand the Data"
      ]
    },
    {
      "cell_type": "code",
      "execution_count": 3,
      "metadata": {
        "colab": {
          "base_uri": "https://localhost:8080/"
        },
        "id": "d9QtVSR7xKMw",
        "outputId": "add353bc-6d8a-4bd8-9a67-0eebd5f9d183"
      },
      "outputs": [
        {
          "name": "stdout",
          "output_type": "stream",
          "text": [
            "Dataset Shape: (20819, 10)\n",
            "\n",
            "Dataset Info:\n",
            "\n",
            "Missing Values:\n"
          ]
        }
      ],
      "source": [
        "# Check Dataset Dimensions\n",
        "print(\"Dataset Shape:\", df.shape)\n",
        "print(\"\\nDataset Info:\")\n",
        "print(df.info())\n",
        "print(\"\\nMissing Values:\")\n",
        "print(df.isnull().sum())"
      ]
    },
    {
      "cell_type": "markdown",
      "metadata": {
        "id": "kLR7dqKU6KuO"
      },
      "source": [
        "Total 20819 data points and 10 features."
      ]
    },
    {
      "cell_type": "code",
      "execution_count": 4,
      "metadata": {
        "colab": {
          "base_uri": "https://localhost:8080/",
          "height": 362
        },
        "id": "uuJSJUAXxdso",
        "outputId": "7aa65ed4-b868-4c79-f685-0b1b65895551"
      },
      "outputs": [
        {
          "data": {
            "text/html": [
              "<div>\n",
              "<style scoped>\n",
              "    .dataframe tbody tr th:only-of-type {\n",
              "        vertical-align: middle;\n",
              "    }\n",
              "\n",
              "    .dataframe tbody tr th {\n",
              "        vertical-align: top;\n",
              "    }\n",
              "\n",
              "    .dataframe thead th {\n",
              "        text-align: right;\n",
              "    }\n",
              "</style>\n",
              "<table border=\"1\" class=\"dataframe\">\n",
              "  <thead>\n",
              "    <tr style=\"text-align: right;\">\n",
              "      <th></th>\n",
              "      <th>Date</th>\n",
              "      <th>County</th>\n",
              "      <th>State</th>\n",
              "      <th>Vehicle Primary Use</th>\n",
              "      <th>Battery Electric Vehicles (BEVs)</th>\n",
              "      <th>Plug-In Hybrid Electric Vehicles (PHEVs)</th>\n",
              "      <th>Electric Vehicle (EV) Total</th>\n",
              "      <th>Non-Electric Vehicle Total</th>\n",
              "      <th>Total Vehicles</th>\n",
              "      <th>Percent Electric Vehicles</th>\n",
              "    </tr>\n",
              "  </thead>\n",
              "  <tbody>\n",
              "    <tr>\n",
              "      <th>0</th>\n",
              "      <td>September 30 2022</td>\n",
              "      <td>Riverside</td>\n",
              "      <td>CA</td>\n",
              "      <td>Passenger</td>\n",
              "      <td>7</td>\n",
              "      <td>0</td>\n",
              "      <td>7</td>\n",
              "      <td>460</td>\n",
              "      <td>467</td>\n",
              "      <td>1.50</td>\n",
              "    </tr>\n",
              "    <tr>\n",
              "      <th>1</th>\n",
              "      <td>December 31 2022</td>\n",
              "      <td>Prince William</td>\n",
              "      <td>VA</td>\n",
              "      <td>Passenger</td>\n",
              "      <td>1</td>\n",
              "      <td>2</td>\n",
              "      <td>3</td>\n",
              "      <td>188</td>\n",
              "      <td>191</td>\n",
              "      <td>1.57</td>\n",
              "    </tr>\n",
              "    <tr>\n",
              "      <th>2</th>\n",
              "      <td>January 31 2020</td>\n",
              "      <td>Dakota</td>\n",
              "      <td>MN</td>\n",
              "      <td>Passenger</td>\n",
              "      <td>0</td>\n",
              "      <td>1</td>\n",
              "      <td>1</td>\n",
              "      <td>32</td>\n",
              "      <td>33</td>\n",
              "      <td>3.03</td>\n",
              "    </tr>\n",
              "    <tr>\n",
              "      <th>3</th>\n",
              "      <td>June 30 2022</td>\n",
              "      <td>Ferry</td>\n",
              "      <td>WA</td>\n",
              "      <td>Truck</td>\n",
              "      <td>0</td>\n",
              "      <td>0</td>\n",
              "      <td>0</td>\n",
              "      <td>3,575</td>\n",
              "      <td>3,575</td>\n",
              "      <td>0.00</td>\n",
              "    </tr>\n",
              "    <tr>\n",
              "      <th>4</th>\n",
              "      <td>July 31 2021</td>\n",
              "      <td>Douglas</td>\n",
              "      <td>CO</td>\n",
              "      <td>Passenger</td>\n",
              "      <td>0</td>\n",
              "      <td>1</td>\n",
              "      <td>1</td>\n",
              "      <td>83</td>\n",
              "      <td>84</td>\n",
              "      <td>1.19</td>\n",
              "    </tr>\n",
              "  </tbody>\n",
              "</table>\n",
              "</div>"
            ],
            "text/plain": [
              "                Date          County State Vehicle Primary Use  \\\n",
              "0  September 30 2022       Riverside    CA           Passenger   \n",
              "1   December 31 2022  Prince William    VA           Passenger   \n",
              "2    January 31 2020          Dakota    MN           Passenger   \n",
              "3       June 30 2022           Ferry    WA               Truck   \n",
              "4       July 31 2021         Douglas    CO           Passenger   \n",
              "\n",
              "   Battery Electric Vehicles (BEVs)  \\\n",
              "0                                  7   \n",
              "1                                  1   \n",
              "2                                  0   \n",
              "3                                  0   \n",
              "4                                  0   \n",
              "\n",
              "   Plug-In Hybrid Electric Vehicles (PHEVs)  Electric Vehicle (EV) Total  \\\n",
              "0                                          0                            7   \n",
              "1                                          2                            3   \n",
              "2                                          1                            1   \n",
              "3                                          0                            0   \n",
              "4                                          1                            1   \n",
              "\n",
              "  Non-Electric Vehicle Total Total Vehicles  Percent Electric Vehicles  \n",
              "0                        460            467                       1.50  \n",
              "1                        188            191                       1.57  \n",
              "2                         32             33                       3.03  \n",
              "3                      3,575          3,575                       0.00  \n",
              "4                         83             84                       1.19  "
            ]
          },
          "execution_count": 4,
          "metadata": {},
          "output_type": "execute_result"
        }
      ],
      "source": [
        "df.head()"
      ]
    },
    {
      "cell_type": "code",
      "execution_count": 5,
      "metadata": {},
      "outputs": [],
      "source": [
        "# Data preprocessing\n",
        "df['Date'] = pd.to_datetime(df['Date'])\n",
        "df['Year'] = df['Date'].dt.year\n",
        "df['Month'] = df['Date'].dt.month\n",
        "df['Quarter'] = df['Date'].dt.quarter\n",
        "\n",
        "# Clean numeric columns\n",
        "numeric_cols = ['Battery Electric Vehicles (BEVs)', 'Plug-In Hybrid Electric Vehicles (PHEVs)', \n",
        "                'Electric Vehicle (EV) Total', 'Non-Electric Vehicle Total', 'Total Vehicles']\n",
        "\n",
        "for col in numeric_cols:\n",
        "    df[col] = df[col].astype(str).str.replace(',', '').astype(int)\n",
        "\n",
        "# Create growth rate features\n",
        "df = df.sort_values(['State', 'County', 'Vehicle Primary Use', 'Date'])\n",
        "df['EV_Growth_Rate'] = df.groupby(['State', 'County', 'Vehicle Primary Use'])['Electric Vehicle (EV) Total'].pct_change()\n",
        "df['EV_Growth_Rate'] = df['EV_Growth_Rate'].fillna(0)\n",
        "\n",
        "# Encode categorical variables\n",
        "le_state = LabelEncoder()\n",
        "le_county = LabelEncoder()\n",
        "le_use = LabelEncoder()\n",
        "\n",
        "df['State_encoded'] = le_state.fit_transform(df['State'])\n",
        "df['County_encoded'] = le_county.fit_transform(df['County'])\n",
        "df['Vehicle_Use_encoded'] = le_use.fit_transform(df['Vehicle Primary Use'])"
      ]
    },
    {
      "cell_type": "code",
      "execution_count": 6,
      "metadata": {},
      "outputs": [],
      "source": [
        "# Prepare features and target\n",
        "features = ['Year', 'Month', 'Quarter', 'State_encoded', 'County_encoded', 'Vehicle_Use_encoded',\n",
        "           'Battery Electric Vehicles (BEVs)', 'Plug-In Hybrid Electric Vehicles (PHEVs)',\n",
        "           'Non-Electric Vehicle Total', 'Total Vehicles', 'EV_Growth_Rate', 'Percent Electric Vehicles']\n",
        "\n",
        "X = df[features]\n",
        "y = df['Electric Vehicle (EV) Total']\n",
        "\n",
        "# Split data chronologically for time series\n",
        "split_date = df['Date'].quantile(0.8)\n",
        "train_mask = df['Date'] <= split_date\n",
        "\n",
        "X_train, X_test = X[train_mask], X[~train_mask]\n",
        "y_train, y_test = y[train_mask], y[~train_mask]"
      ]
    },
    {
      "cell_type": "code",
      "execution_count": 7,
      "metadata": {},
      "outputs": [],
      "source": [
        "# Hyperparameter tuning\n",
        "param_dist = {\n",
        "    'n_estimators': [100, 200],\n",
        "    'max_depth': [10, 20, None],\n",
        "    'min_samples_split': [2, 5]\n",
        "}\n",
        "\n",
        "rf_model = RandomForestRegressor(random_state=42)\n",
        "random_search = RandomizedSearchCV(rf_model, param_dist, n_iter=5, cv=3, random_state=42)\n",
        "random_search.fit(X_train, y_train)\n",
        "\n",
        "# Best model\n",
        "best_model = random_search.best_estimator_\n",
        "y_pred = best_model.predict(X_test)"
      ]
    },
    {
      "cell_type": "code",
      "execution_count": 8,
      "metadata": {},
      "outputs": [],
      "source": [
        "# Evaluate model\n",
        "mae = mean_absolute_error(y_test, y_pred)\n",
        "mse = mean_squared_error(y_test, y_pred)\n",
        "r2 = r2_score(y_test, y_pred)\n",
        "\n",
        "print(f'Mean Absolute Error: {mae:.2f}')\n",
        "print(f'Mean Squared Error: {mse:.2f}')\n",
        "print(f'R² Score: {r2:.4f}')"
      ]
    },
    {
      "cell_type": "code",
      "execution_count": 9,
      "metadata": {},
      "outputs": [],
      "source": [
        "# Feature importance\n",
        "feature_importance = pd.DataFrame({\n",
        "    'feature': features,\n",
        "    'importance': best_model.feature_importances_\n",
        "}).sort_values('importance', ascending=False)\n",
        "\n",
        "print('Feature Importance:')\n",
        "print(feature_importance)\n",
        "\n",
        "# Visualize top features\n",
        "plt.figure(figsize=(10, 6))\n",
        "sns.barplot(data=feature_importance.head(8), x='importance', y='feature')\n",
        "plt.title('Top 8 Feature Importance for EV Adoption Forecasting')\n",
        "plt.tight_layout()\n",
        "plt.show()"
      ]
    },
    {
      "cell_type": "code",
      "execution_count": 10,
      "metadata": {},
      "outputs": [],
      "source": [
        "# Save model and encoders\n",
        "joblib.dump(best_model, 'ev_adoption_model.pkl')\n",
        "joblib.dump({'state': le_state, 'county': le_county, 'use': le_use}, 'encoders.pkl')\n",
        "print('Model and encoders saved successfully!')"
      ]
    },
    {
      "cell_type": "markdown",
      "metadata": {},
      "source": [
        "### Future Predictions\n",
        "\n",
        "Create predictions for future EV adoption based on historical trends."
      ]
    },
    {
      "cell_type": "code",
      "execution_count": 11,
      "metadata": {},
      "outputs": [],
      "source": [
        "# Create realistic future scenarios\n",
        "# Scenario 1: Conservative growth\n",
        "conservative_data = pd.DataFrame({\n",
        "    'Year': [2025, 2026, 2027],\n",
        "    'Month': [6, 6, 6],\n",
        "    'Quarter': [2, 2, 2],\n",
        "    'State_encoded': [df['State_encoded'].mode()[0]] * 3,\n",
        "    'County_encoded': [df['County_encoded'].mode()[0]] * 3,\n",
        "    'Vehicle_Use_encoded': [0] * 3,  # Passenger vehicles\n",
        "    'Battery Electric Vehicles (BEVs)': [100, 120, 140],\n",
        "    'Plug-In Hybrid Electric Vehicles (PHEVs)': [50, 55, 60],\n",
        "    'Non-Electric Vehicle Total': [5000, 4800, 4600],\n",
        "    'Total Vehicles': [5150, 4975, 4800],\n",
        "    'EV_Growth_Rate': [0.15, 0.12, 0.10],\n",
        "    'Percent Electric Vehicles': [2.9, 3.5, 4.2]\n",
        "})\n",
        "\n",
        "# Scenario 2: Aggressive growth\n",
        "aggressive_data = conservative_data.copy()\n",
        "aggressive_data['Battery Electric Vehicles (BEVs)'] = [200, 280, 380]\n",
        "aggressive_data['EV_Growth_Rate'] = [0.25, 0.22, 0.20]\n",
        "aggressive_data['Percent Electric Vehicles'] = [4.5, 6.2, 8.5]\n",
        "\n",
        "# Make predictions\n",
        "conservative_pred = best_model.predict(conservative_data)\n",
        "aggressive_pred = best_model.predict(aggressive_data)\n",
        "\n",
        "print('EV Adoption Forecasting Results:')\n",
        "print('\\nConservative Growth Scenario:')\n",
        "for i, year in enumerate([2025, 2026, 2027]):\n",
        "    print(f'{year}: {conservative_pred[i]:.0f} EVs')\n",
        "\n",
        "print('\\nAggressive Growth Scenario:')\n",
        "for i, year in enumerate([2025, 2026, 2027]):\n",
        "    print(f'{year}: {aggressive_pred[i]:.0f} EVs')"
      ]
    }
  ],
  "metadata": {
    "colab": {
      "provenance": []
    },
    "kernelspec": {
      "display_name": "Python 3",
      "name": "python3"
    },
    "language_info": {
      "name": "python"
    }
  },
  "nbformat": 4,
  "nbformat_minor": 0
}